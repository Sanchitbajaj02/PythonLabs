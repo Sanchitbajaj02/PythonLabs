{
 "metadata": {
  "language_info": {
   "codemirror_mode": {
    "name": "ipython",
    "version": 3
   },
   "file_extension": ".py",
   "mimetype": "text/x-python",
   "name": "python",
   "nbconvert_exporter": "python",
   "pygments_lexer": "ipython3",
   "version": "3.8.5"
  },
  "orig_nbformat": 2,
  "kernelspec": {
   "name": "python3",
   "display_name": "Python 3",
   "language": "python"
  }
 },
 "nbformat": 4,
 "nbformat_minor": 2,
 "cells": [
  {
   "cell_type": "code",
   "execution_count": 2,
   "metadata": {},
   "outputs": [
    {
     "output_type": "stream",
     "name": "stdout",
     "text": [
      "Product: 120\n"
     ]
    }
   ],
   "source": [
    "# Q1. Write a program to multiply two numbers using functions.\n",
    "def multiply(x, y):\n",
    "    return (x * y)\n",
    "\n",
    "a = 10\n",
    "b = 12\n",
    "print(\"Product:\", multiply(a, b))"
   ]
  },
  {
   "cell_type": "code",
   "execution_count": 5,
   "metadata": {},
   "outputs": [
    {
     "output_type": "stream",
     "name": "stdout",
     "text": [
      "Sum: 27\n"
     ]
    }
   ],
   "source": [
    "# Q2. Write a program to add two numbers using functions.\n",
    "def sum(x, y):\n",
    "    return (x + y)\n",
    "\n",
    "a = 14\n",
    "b = 13\n",
    "print(\"Sum:\", sum(a, b))"
   ]
  },
  {
   "cell_type": "code",
   "execution_count": 6,
   "metadata": {},
   "outputs": [
    {
     "output_type": "stream",
     "name": "stdout",
     "text": [
      "Factorial: 720\n"
     ]
    }
   ],
   "source": [
    "# Q3. Calculate factorial of a number using function.\n",
    "def factorial(num):\n",
    "    res = 1\n",
    "    for i in range(1,num+1):\n",
    "        res *= i\n",
    "    return res\n",
    "\n",
    "print(\"Factorial:\", factorial(6))"
   ]
  },
  {
   "cell_type": "code",
   "execution_count": 18,
   "metadata": {},
   "outputs": [
    {
     "output_type": "stream",
     "name": "stdout",
     "text": [
      "Fibonacci: 0, 1, 1, 2, 3, 5, 8, 13, 21, 34"
     ]
    }
   ],
   "source": [
    "# Q4. Create sequence of Fibonacci using function.\n",
    "def fibonacci(length):\n",
    "    a = 0\n",
    "    b = 1\n",
    "    print(\"Fibonacci: \" + str(a) + \", \" + str(b), end=\"\")\n",
    "    for i in range(2, length):\n",
    "        s = a + b\n",
    "        print(\", \" + str(s), end=\"\")\n",
    "        a = b\n",
    "        b = s\n",
    "\n",
    "fibonacci(10)"
   ]
  },
  {
   "cell_type": "code",
   "execution_count": 27,
   "metadata": {},
   "outputs": [
    {
     "output_type": "stream",
     "name": "stdout",
     "text": [
      "Before Swapping: a = 10 & b = 20\nAfter Swapping: a = 20 & b = 10\n"
     ]
    }
   ],
   "source": [
    "# Q5. Write a program to swapping of two numbers using functions.\n",
    "def swap(a, b):\n",
    "    temp = 0\n",
    "    temp = a\n",
    "    a = b\n",
    "    b = temp\n",
    "    print(\"After Swapping: a = {} & b = {}\".format(a,b))\n",
    "\n",
    "a = 10\n",
    "b = 20\n",
    "print(\"Before Swapping: a = {} & b = {}\".format(a,b))\n",
    "swap(a,b)"
   ]
  },
  {
   "cell_type": "code",
   "execution_count": 32,
   "metadata": {},
   "outputs": [
    {
     "output_type": "stream",
     "name": "stdout",
     "text": [
      "HCF: 4\n"
     ]
    }
   ],
   "source": [
    "# Q6. Write a function to find the HCF of some given numbers.\n",
    "def compute_hcf(x, y):\n",
    "    if x > y:\n",
    "        small = y\n",
    "    else:\n",
    "        small = x\n",
    "\n",
    "    for i in range(1, small + 1):\n",
    "        if (x%i == 0) and (y%i == 0):\n",
    "            hcf = i\n",
    "    return hcf\n",
    "\n",
    "num1 = 20\n",
    "num2 = 24\n",
    "print(\"HCF: {}\".format(compute_hcf(num1, num2)))"
   ]
  },
  {
   "cell_type": "code",
   "execution_count": 37,
   "metadata": {},
   "outputs": [
    {
     "output_type": "stream",
     "name": "stdout",
     "text": [
      "ASCII value: 65\n"
     ]
    }
   ],
   "source": [
    "# Q7. Write a function to find the ASCII value of the character.\n",
    "def get_ascii(num):\n",
    "    return ord(num)\n",
    "\n",
    "num = 'A'\n",
    "print(\"ASCII value:\",get_ascii(num))"
   ]
  },
  {
   "cell_type": "code",
   "execution_count": 9,
   "metadata": {},
   "outputs": [
    {
     "output_type": "stream",
     "name": "stdout",
     "text": [
      "Squre root of 49 is: 7.0\n"
     ]
    }
   ],
   "source": [
    "# Q8. Write a program that demonstrates the (built in function) mathematical functions.\n",
    "import math\n",
    "a = 49\n",
    "print(\"Squre root of {} is: {}\".format(a, math.sqrt(a)))"
   ]
  },
  {
   "cell_type": "code",
   "execution_count": 31,
   "metadata": {},
   "outputs": [
    {
     "output_type": "stream",
     "name": "stdout",
     "text": [
      "Todays date is: 2021-03-22\n"
     ]
    }
   ],
   "source": [
    "# Q9. Write a program that demonstrates the (built in function) Date & Time functions.\n",
    "import datetime\n",
    "print(\"Todays date is:\", datetime.date.today())"
   ]
  },
  {
   "cell_type": "code",
   "execution_count": 35,
   "metadata": {},
   "outputs": [
    {
     "output_type": "stream",
     "name": "stdout",
     "text": [
      "function call\n"
     ]
    }
   ],
   "source": [
    "# Q10. Write a program that demonstrates Required arguments.\n",
    "def printme( str ):\n",
    "   \"This prints a passed string into this function\"\n",
    "   print (str)\n",
    "   return\n",
    "\n",
    "printme(\"function call\")"
   ]
  },
  {
   "cell_type": "code",
   "execution_count": 39,
   "metadata": {},
   "outputs": [
    {
     "output_type": "stream",
     "name": "stdout",
     "text": [
      "Name: Sanchit\nRoll no: 1001\n"
     ]
    }
   ],
   "source": [
    "# Q11. Write a program that demonstrates keyword arguments.\n",
    "def student(name, rno):\n",
    "    print(\"Name:\", name)\n",
    "    print(\"Roll no:\", rno)\n",
    "\n",
    "student(name=\"Sanchit\", rno=\"1001\")"
   ]
  },
  {
   "cell_type": "code",
   "execution_count": 37,
   "metadata": {},
   "outputs": [
    {
     "output_type": "stream",
     "name": "stdout",
     "text": [
      "Result 55.0\n"
     ]
    }
   ],
   "source": [
    "# Q12. Write a program that demonstrates Default arguments.\n",
    "def test_function(x, y=100):\n",
    "    return (x + y)/2\n",
    "\n",
    "print(\"Result\", test_function(10))"
   ]
  },
  {
   "cell_type": "code",
   "execution_count": 38,
   "metadata": {},
   "outputs": [
    {
     "output_type": "stream",
     "name": "stdout",
     "text": [
      "lab\nexercise\nfor\npython\n"
     ]
    }
   ],
   "source": [
    "# Q13. Write a program that demonstrates Variable–length arguments.\n",
    "def myFun(*argv):  \n",
    "    for arg in argv:  \n",
    "        print (arg) \n",
    "    \n",
    "myFun('lab', 'exercise', 'for', 'python')"
   ]
  }
 ]
}