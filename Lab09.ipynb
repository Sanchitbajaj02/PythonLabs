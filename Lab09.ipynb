{
 "metadata": {
  "language_info": {
   "codemirror_mode": {
    "name": "ipython",
    "version": 3
   },
   "file_extension": ".py",
   "mimetype": "text/x-python",
   "name": "python",
   "nbconvert_exporter": "python",
   "pygments_lexer": "ipython3",
   "version": "3.8.5-final"
  },
  "orig_nbformat": 2,
  "kernelspec": {
   "name": "python3",
   "display_name": "Python 3.8.5 32-bit",
   "metadata": {
    "interpreter": {
     "hash": "2bc9d3d03d6abd05a2a6b4e9db2e2f37b3c445a3e83321d2b915ec6cd4d6c2be"
    }
   }
  }
 },
 "nbformat": 4,
 "nbformat_minor": 2,
 "cells": [
  {
   "cell_type": "code",
   "execution_count": 29,
   "metadata": {},
   "outputs": [
    {
     "output_type": "stream",
     "name": "stdout",
     "text": [
      "Tiger has 4 legs.\nDog has 4 legs.\n"
     ]
    }
   ],
   "source": [
    "# Q1. Write a Python program that has a class Animal with a method legs(). Create two subclasses Tiger and Dog, access the method leg explicitly with class Dog and implicitly with the class Tiger.\n",
    "class Animal:\n",
    "    def __init__(self):\n",
    "        pass\n",
    "\n",
    "    def legs(self, animalName, leg):\n",
    "        print(\"{} has {} legs.\".format(animalName, leg))\n",
    "\n",
    "class Tiger(Animal):\n",
    "    def __init__(self):\n",
    "        pass\n",
    "\n",
    "    def legs(self, animalName, leg):\n",
    "        super().legs(animalName, leg)\n",
    "\n",
    "class Dog(Animal):\n",
    "    def __init__(self):\n",
    "        pass\n",
    "\n",
    "     def legs(self, animalName, leg):\n",
    "        super().legs(animalName, leg)\n",
    "\n",
    "dog = Dog()\n",
    "tiger = Tiger()\n",
    "tiger.legs(\"Tiger\", 4)\n",
    "dog.legs(\"Dog\", 4)"
   ]
  },
  {
   "cell_type": "code",
   "execution_count": 30,
   "metadata": {},
   "outputs": [
    {
     "output_type": "stream",
     "name": "stdout",
     "text": [
      "Designation: Engineer\nDesignation: Manager\n"
     ]
    }
   ],
   "source": [
    "# Q2. Write a Python program to create a class Employee. Define two subclasses: Engineer and Manager. Every class should have method named printDesignation() that prints Engineer for Engineer class and Manager for Manager Class.\n",
    "class Employee:\n",
    "    def __init__(self):\n",
    "        pass\n",
    "      \n",
    "    def printDesignation(self, designation):\n",
    "        print(\"Designation: {}\".format(designation))\n",
    "\n",
    "class Engineer(Employee):\n",
    "    def __init__(self):\n",
    "        pass\n",
    "    \n",
    "    def printDesignation(self, designation):\n",
    "        super().printDesignation(designation)\n",
    "\n",
    "class Manager(Employee):\n",
    "    def __init__(self):\n",
    "        pass\n",
    "    \n",
    "    def printDesignation(self, designation):\n",
    "        super().printDesignation(designation)\n",
    "\n",
    "eng = Engineer()\n",
    "manage = Manager()\n",
    "\n",
    "eng.printDesignation(\"Engineer\")\n",
    "manage.printDesignation(\"Manager\")"
   ]
  },
  {
   "cell_type": "code",
   "execution_count": 11,
   "metadata": {},
   "outputs": [
    {
     "output_type": "stream",
     "name": "stdout",
     "text": [
      "021S\nSanchit\n20\n"
     ]
    }
   ],
   "source": [
    "# Q3. Write a Python program to demonstrate classes and their attributes.\n",
    "class User:\n",
    "    id = \"021S\"\n",
    "    name = \"Sanchit\"\n",
    "    age = 20\n",
    "\n",
    "    def __init__(self):\n",
    "        pass\n",
    "\n",
    "user = User()\n",
    "print(getattr(user, \"id\"))\n",
    "print(getattr(user, \"name\"))\n",
    "print(getattr(user, \"age\"))"
   ]
  },
  {
   "cell_type": "code",
   "execution_count": 14,
   "metadata": {},
   "outputs": [
    {
     "output_type": "stream",
     "name": "stdout",
     "text": [
      "Rate of interest of Bank: 10\nRate of interest of SBI: 5\nRate of interest of ICICI: 8\n"
     ]
    }
   ],
   "source": [
    "# Q4. Write a Python program to demonstrate Inheritance and method overriding.\n",
    "class Bank:\n",
    "    def __init__(self):\n",
    "        pass\n",
    "    \n",
    "    def get_roi(self):\n",
    "        return 10\n",
    "\n",
    "class SBI(Bank):\n",
    "    def __init__(self):\n",
    "        pass\n",
    "    \n",
    "    def get_roi(self):\n",
    "        return 5\n",
    "\n",
    "class ICICI(Bank):\n",
    "    def __init__(self):\n",
    "        pass\n",
    "    \n",
    "    def get_roi(self):\n",
    "        return 8\n",
    "\n",
    "b1 = Bank()\n",
    "b2 = SBI()\n",
    "b3 = ICICI()\n",
    "print(\"Rate of interest of Bank: {}\".format(b1.get_roi()))\n",
    "print(\"Rate of interest of SBI: {}\".format(b2.get_roi()))\n",
    "print(\"Rate of interest of ICICI: {}\".format(b3.get_roi()))"
   ]
  },
  {
   "cell_type": "code",
   "execution_count": 15,
   "metadata": {},
   "outputs": [
    {
     "output_type": "stream",
     "name": "stdout",
     "text": [
      "Base1\nBase2\nDerived\nGeek1 Geek2\n"
     ]
    }
   ],
   "source": [
    "# Q5. Write a Python program to demonstrate multiple Inheritance.\n",
    "class Base1:\n",
    "    def __init__(self):\n",
    "        self.str1 = \"Geek1\"\n",
    "        print(\"Base1\")\n",
    "  \n",
    "class Base2:\n",
    "    def __init__(self):\n",
    "        self.str2 = \"Geek2\"        \n",
    "        print(\"Base2\")\n",
    "  \n",
    "class Derived(Base1, Base2):\n",
    "    def __init__(self):\n",
    "        Base1.__init__(self)\n",
    "        Base2.__init__(self)\n",
    "        print(\"Derived\")\n",
    "          \n",
    "    def printStrs(self):\n",
    "        print(self.str1, self.str2)\n",
    "         \n",
    "  \n",
    "ob = Derived()\n",
    "ob.printStrs()"
   ]
  }
 ]
}