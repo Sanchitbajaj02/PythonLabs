{
 "metadata": {
  "language_info": {
   "codemirror_mode": {
    "name": "ipython",
    "version": 3
   },
   "file_extension": ".py",
   "mimetype": "text/x-python",
   "name": "python",
   "nbconvert_exporter": "python",
   "pygments_lexer": "ipython3",
   "version": "3.8.5-final"
  },
  "orig_nbformat": 2,
  "kernelspec": {
   "name": "python3",
   "display_name": "Python 3.8.5 32-bit",
   "metadata": {
    "interpreter": {
     "hash": "2bc9d3d03d6abd05a2a6b4e9db2e2f37b3c445a3e83321d2b915ec6cd4d6c2be"
    }
   }
  }
 },
 "nbformat": 4,
 "nbformat_minor": 2,
 "cells": [
  {
   "cell_type": "code",
   "execution_count": null,
   "metadata": {},
   "outputs": [],
   "source": [
    "# Consider the sets: set1 = {10, 20, 30, 40, 50}\n",
    "# set2 = {30, 40, 50, 60, 70}"
   ]
  },
  {
   "cell_type": "code",
   "execution_count": 24,
   "metadata": {},
   "outputs": [
    {
     "output_type": "stream",
     "name": "stdout",
     "text": [
      "Set 1: {40, 10, 50, 20, 30}\nSet 2: {70, 40, 50, 60, 30}\n"
     ]
    }
   ],
   "source": [
    "# Q1. Write a program to create two sets Set1 and Set2 as above.\n",
    "set1 = {10, 20, 30, 40, 50}\n",
    "set2 = {30, 40, 50, 60, 70}\n",
    "\n",
    "print(\"Set 1: {}\".format(set1))\n",
    "print(\"Set 2: {}\".format(set2))"
   ]
  },
  {
   "cell_type": "code",
   "execution_count": 25,
   "metadata": {},
   "outputs": [
    {
     "output_type": "stream",
     "name": "stdout",
     "text": [
      "Original Set 2: {70, 40, 50, 60, 30}\nUpdated Set 2 : {70, 40, 80, 50, 60, 30}\n"
     ]
    }
   ],
   "source": [
    "# Q2. Write a program to add an element 80 to set2.\n",
    "set2 = {30, 40, 50, 60, 70}\n",
    "print(\"Original Set 2: {}\".format(set2))\n",
    "set2.add(80)\n",
    "print(\"Updated Set 2 : {}\".format(set2))"
   ]
  },
  {
   "cell_type": "code",
   "execution_count": 27,
   "metadata": {},
   "outputs": [
    {
     "output_type": "stream",
     "name": "stdout",
     "text": [
      "Union Set: {70, 40, 10, 50, 20, 60, 30}\n"
     ]
    }
   ],
   "source": [
    "# Q3. Write a Python program to create a union of set1 and set2.\n",
    "set1 = {10, 20, 30, 40, 50}\n",
    "set2 = {30, 40, 50, 60, 70}\n",
    "\n",
    "new_set = set1.union(set2)\n",
    "print(\"Union Set: {}\".format(new_set))"
   ]
  },
  {
   "cell_type": "code",
   "execution_count": 29,
   "metadata": {},
   "outputs": [
    {
     "output_type": "stream",
     "name": "stdout",
     "text": [
      "{40, 10, 50, 20, 30}\nset()\n"
     ]
    }
   ],
   "source": [
    "# Q4. Write a Python program to clear a set1\n",
    "set1 = {10, 20, 30, 40, 50}\n",
    "print(set1)\n",
    "set1.clear()\n",
    "print(set1)"
   ]
  },
  {
   "cell_type": "code",
   "execution_count": 35,
   "metadata": {},
   "outputs": [
    {
     "output_type": "stream",
     "name": "stdout",
     "text": [
      "Output: {'Yellow', 'Red', 'Blue', 'Green', 'Black', 'Orange'}\n"
     ]
    }
   ],
   "source": [
    "# Q5. Add a list of elements to a given set\n",
    "# sampleSet = {\"Yellow\", \"Orange\", \"Black\"}\n",
    "# sampleList = [\"Blue\", \"Green\", \"Red\"]\n",
    "# Expected output:\n",
    "# In set item order is not a concern\n",
    "# {'Green', 'Yellow', 'Black', 'Orange', 'Red', 'Blue'}\n",
    "\n",
    "sampleSet = {\"Yellow\", \"Orange\", \"Black\"}\n",
    "sampleList = [\"Blue\", \"Green\", \"Red\"]\n",
    "\n",
    "sampleSet.update(sampleList)\n",
    "print(\"Output: {}\".format(sampleSet))"
   ]
  },
  {
   "cell_type": "code",
   "execution_count": 38,
   "metadata": {},
   "outputs": [
    {
     "output_type": "stream",
     "name": "stdout",
     "text": [
      "Length of set1: 5\n"
     ]
    }
   ],
   "source": [
    "# Q6. Write a program to find length of a set1.\n",
    "set1 = {10, 20, 30, 40, 50}\n",
    "print(\"Length of set1: {}\".format(len(set1)))"
   ]
  },
  {
   "cell_type": "code",
   "execution_count": 41,
   "metadata": {},
   "outputs": [
    {
     "output_type": "stream",
     "name": "stdout",
     "text": [
      "Updated: {70, 40, 50, 60}\n"
     ]
    }
   ],
   "source": [
    "# Q7. Write a program to remove 30 from set2.\n",
    "set2 = {30, 40, 50, 60, 70}\n",
    "set2.remove(30)\n",
    "print(\"Updated: {}\".format(set2))"
   ]
  },
  {
   "cell_type": "code",
   "execution_count": 43,
   "metadata": {},
   "outputs": [
    {
     "output_type": "stream",
     "name": "stdout",
     "text": [
      "{70, 40, 10, 50, 20, 60, 30}\n"
     ]
    }
   ],
   "source": [
    "# Q8. WAP to Return a new set with all items from both sets by removing duplicates\n",
    "set1 = {10, 20, 30, 40, 50}\n",
    "set2 = {30, 40, 50, 60, 70}\n",
    "\n",
    "set1.update(set2)\n",
    "print(set1)"
   ]
  },
  {
   "cell_type": "code",
   "execution_count": 46,
   "metadata": {},
   "outputs": [
    {
     "output_type": "stream",
     "name": "stdout",
     "text": [
      "{40, 10, 50, 20, 30}\n{10, 50, 20, 30}\n"
     ]
    }
   ],
   "source": [
    "# Q9. Write a program to pop an element from a set\n",
    "set1 = {10, 20, 30, 40, 50}\n",
    "print(set1)\n",
    "set1.pop()\n",
    "print(set1)"
   ]
  },
  {
   "cell_type": "code",
   "execution_count": 49,
   "metadata": {},
   "outputs": [
    {
     "output_type": "stream",
     "name": "stdout",
     "text": [
      "{40, 50, 30}\n"
     ]
    }
   ],
   "source": [
    "# Q10. Return a set of identical items from a given two Python set\n",
    "# set1 = {10, 20, 30, 40, 50}\n",
    "# set2 = {30, 40, 50, 60, 70}\n",
    "# Expected output:\n",
    "# {40, 50, 30}\n",
    "set1 = {10, 20, 30, 40, 50}\n",
    "set2 = {30, 40, 50, 60, 70}\n",
    "new_set = set1.intersection(set2)\n",
    "print(new_set)"
   ]
  },
  {
   "cell_type": "code",
   "execution_count": 51,
   "metadata": {},
   "outputs": [
    {
     "output_type": "stream",
     "name": "stdout",
     "text": [
      "{10}\n"
     ]
    }
   ],
   "source": [
    "# Q11. Determines whether or not the following two sets have any elements in common. If yes display the common elements\n",
    "# set1 = {10, 20, 30, 40, 50}\n",
    "# set2 = {60, 70, 80, 90, 10}\n",
    "# Expected output:\n",
    "# Two sets have items in common\n",
    "# {10}\n",
    "\n",
    "set1 = {10, 20, 30, 40, 50}\n",
    "set2 = {60, 70, 80, 90, 10}\n",
    "\n",
    "new_set = set1.intersection(set2)\n",
    "print(new_set)"
   ]
  },
  {
   "cell_type": "code",
   "execution_count": 54,
   "metadata": {},
   "outputs": [
    {
     "output_type": "stream",
     "name": "stdout",
     "text": [
      "{20, 70, 10, 60}\n"
     ]
    }
   ],
   "source": [
    "# Q12. Return a set of all elements in either A or B, but not both\n",
    "# set1 = {10, 20, 30, 40, 50}\n",
    "# set2 = {30, 40, 50, 60, 70}\n",
    "# Expected output:\n",
    "# {20, 70, 10, 60}\n",
    "\n",
    "set1 = {10, 20, 30, 40, 50}\n",
    "set2 = {30, 40, 50, 60, 70}\n",
    "\n",
    "print(set1.symmetric_difference(set2))"
   ]
  },
  {
   "cell_type": "code",
   "execution_count": 58,
   "metadata": {},
   "outputs": [
    {
     "output_type": "stream",
     "name": "stdout",
     "text": [
      "{10, 30}\n"
     ]
    }
   ],
   "source": [
    "# Q13. Given two Python sets, update first set with items that exist only in the first set and not in the second set.\n",
    "# set1 = {10, 20, 30}\n",
    "# set2 = {20, 40, 50}\n",
    "# Expected output:\n",
    "# set1 = {10, 30}\n",
    "set1 = {10, 20, 30}\n",
    "set2 = {20, 40, 50}\n",
    "\n",
    "set1.difference_update(set2)\n",
    "print(set1)"
   ]
  },
  {
   "cell_type": "code",
   "execution_count": 62,
   "metadata": {},
   "outputs": [
    {
     "output_type": "stream",
     "name": "stdout",
     "text": [
      "{40, 50}\n"
     ]
    }
   ],
   "source": [
    "# Q14. Remove 10, 20, 30 elements from a following set at once\n",
    "# set1 = {10, 20, 30, 40, 50}\n",
    "# Expected output:\n",
    "# {40, 50}\n",
    "set1 = {10, 20, 30, 40, 50}\n",
    "set1.difference_update({10, 20, 30})\n",
    "print(set1)"
   ]
  },
  {
   "cell_type": "code",
   "execution_count": 63,
   "metadata": {},
   "outputs": [
    {
     "output_type": "stream",
     "name": "stdout",
     "text": [
      "{70, 10, 20, 60}\n"
     ]
    }
   ],
   "source": [
    "# Q15. Update set1 by adding items from set2, except common items\n",
    "# set1 = {10, 20, 30, 40, 50}\n",
    "# set2 = {30, 40, 50, 60, 70}\n",
    "# Expected output:\n",
    "# {70, 10, 20, 60}\n",
    "set1 = {10, 20, 30, 40, 50}\n",
    "set2 = {30, 40, 50, 60, 70}\n",
    "set1.symmetric_difference_update(set2)\n",
    "print(set1)"
   ]
  },
  {
   "cell_type": "code",
   "execution_count": 68,
   "metadata": {},
   "outputs": [
    {
     "output_type": "stream",
     "name": "stdout",
     "text": [
      "{40, 10, 50, 20, 30}\n"
     ]
    }
   ],
   "source": [
    "# Q16. Remove items from set1 that are not common to both set1 and set2\n",
    "# set1 = {10, 20, 30, 40, 50}\n",
    "# set2 = {30, 40, 50, 60, 70}\n",
    "# Expected output:\n",
    "# {40, 50, 30}\n",
    "set1 = {10, 20, 30, 40, 50}\n",
    "set2 = {30, 40, 50, 60, 70}\n",
    "set1.intersection_update(set2)\n",
    "print(set1)"
   ]
  }
 ]
}