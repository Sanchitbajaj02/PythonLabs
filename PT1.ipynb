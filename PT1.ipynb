{
 "metadata": {
  "language_info": {
   "codemirror_mode": {
    "name": "ipython",
    "version": 3
   },
   "file_extension": ".py",
   "mimetype": "text/x-python",
   "name": "python",
   "nbconvert_exporter": "python",
   "pygments_lexer": "ipython3",
   "version": "3.8.5"
  },
  "orig_nbformat": 2,
  "kernelspec": {
   "name": "python3",
   "display_name": "Python 3.8.5 32-bit",
   "metadata": {
    "interpreter": {
     "hash": "9fedd0d931ff6a681b2c3f3b78abad485122022d6470de7e81ad3919351274f4"
    }
   }
  }
 },
 "nbformat": 4,
 "nbformat_minor": 2,
 "cells": [
  {
   "cell_type": "code",
   "execution_count": 11,
   "metadata": {},
   "outputs": [
    {
     "output_type": "stream",
     "name": "stdout",
     "text": [
      "String entered: string\nCharacters on even places are: srn\n"
     ]
    }
   ],
   "source": [
    "# Q1\n",
    "word = input(\"Enter the string: \")\n",
    "print(\"String entered: {}\".format(word))\n",
    "\n",
    "res = \"\"\n",
    "for i, val in enumerate(word):\n",
    "    if i % 2 == 0:\n",
    "        res += val\n",
    "\n",
    "print(\"Characters on even places are: {}\".format(res) )"
   ]
  },
  {
   "cell_type": "code",
   "execution_count": 13,
   "metadata": {},
   "outputs": [
    {
     "output_type": "stream",
     "name": "stdout",
     "text": [
      "['Hello Dear', 'Hello Sir', 'take Dear', 'take Sir']\n"
     ]
    }
   ],
   "source": [
    "#Q3\n",
    "list1 = [\"Hello\", \"take\"]\n",
    "list2 = [\"Dear\", \"Sir\"]\n",
    "\n",
    "res = []\n",
    "for i in list1:\n",
    "    for j in list2:\n",
    "        res.append(i + ' ' + j)\n",
    "\n",
    "print(res)"
   ]
  },
  {
   "cell_type": "code",
   "execution_count": 15,
   "metadata": {},
   "outputs": [
    {
     "output_type": "stream",
     "name": "stdout",
     "text": [
      "Prices of apples: 30, bananas: 50 and grapes: 40\n"
     ]
    }
   ],
   "source": [
    "#Q4\n",
    "prices = (30, 50, 40)\n",
    "apple, banana, grapes = prices\n",
    "print(\"Prices of apples: {}, bananas: {} and grapes: {}\".format(apple, banana, grapes))"
   ]
  },
  {
   "cell_type": "code",
   "execution_count": 32,
   "metadata": {},
   "outputs": [
    {
     "output_type": "stream",
     "name": "stdout",
     "text": [
      "15\n55\n75\n150\n"
     ]
    }
   ],
   "source": [
    "#Q2\n",
    "list1 = [12, 15, 32, 42, 55, 75, 122, 132, 150, 180, 200]\n",
    "res = []\n",
    "for num in list1:\n",
    "    if num % 5 == 0 and num <= 150:\n",
    "        res.append(num)\n",
    "print('\\n'.join(map(str, res)))"
   ]
  },
  {
   "cell_type": "code",
   "execution_count": 37,
   "metadata": {},
   "outputs": [
    {
     "output_type": "stream",
     "name": "stdout",
     "text": [
      "c\no\nd\ni\nn\ng\n"
     ]
    }
   ],
   "source": [
    "for d in \"coding\":\n",
    "    if d == \"d\":\n",
    "        pass\n",
    "    print(d)"
   ]
  },
  {
   "cell_type": "code",
   "execution_count": null,
   "metadata": {},
   "outputs": [],
   "source": []
  }
 ]
}