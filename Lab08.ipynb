{
 "metadata": {
  "language_info": {
   "codemirror_mode": {
    "name": "ipython",
    "version": 3
   },
   "file_extension": ".py",
   "mimetype": "text/x-python",
   "name": "python",
   "nbconvert_exporter": "python",
   "pygments_lexer": "ipython3",
   "version": "3.8.5-final"
  },
  "orig_nbformat": 2,
  "kernelspec": {
   "name": "python3",
   "display_name": "Python 3.8.5 32-bit",
   "metadata": {
    "interpreter": {
     "hash": "2bc9d3d03d6abd05a2a6b4e9db2e2f37b3c445a3e83321d2b915ec6cd4d6c2be"
    }
   }
  }
 },
 "nbformat": 4,
 "nbformat_minor": 2,
 "cells": [
  {
   "cell_type": "code",
   "execution_count": 2,
   "metadata": {},
   "outputs": [
    {
     "output_type": "stream",
     "name": "stdout",
     "text": [
      "Product: 120\n"
     ]
    }
   ],
   "source": [
    "# Q1. Write a program to multiply two numbers using functions.\n",
    "def multiply(x, y):\n",
    "    return (x * y)\n",
    "\n",
    "a = 10\n",
    "b = 12\n",
    "print(\"Product:\", multiply(a, b))"
   ]
  },
  {
   "cell_type": "code",
   "execution_count": 5,
   "metadata": {},
   "outputs": [
    {
     "output_type": "stream",
     "name": "stdout",
     "text": [
      "Sum: 27\n"
     ]
    }
   ],
   "source": [
    "# Q2. Write a program to add two numbers using functions.\n",
    "def sum(x, y):\n",
    "    return (x + y)\n",
    "\n",
    "a = 14\n",
    "b = 13\n",
    "print(\"Sum:\", sum(a, b))"
   ]
  },
  {
   "cell_type": "code",
   "execution_count": 6,
   "metadata": {},
   "outputs": [
    {
     "output_type": "stream",
     "name": "stdout",
     "text": [
      "Factorial: 720\n"
     ]
    }
   ],
   "source": [
    "# Q3. Calculate factorial of a number using function.\n",
    "def factorial(num):\n",
    "    res = 1\n",
    "    for i in range(1,num+1):\n",
    "        res *= i\n",
    "    return res\n",
    "\n",
    "print(\"Factorial:\", factorial(6))"
   ]
  },
  {
   "cell_type": "code",
   "execution_count": 18,
   "metadata": {},
   "outputs": [
    {
     "output_type": "stream",
     "name": "stdout",
     "text": [
      "Fibonacci: 0, 1, 1, 2, 3, 5, 8, 13, 21, 34"
     ]
    }
   ],
   "source": [
    "# Q4. Create sequence of Fibonacci using function.\n",
    "def fibonacci(length):\n",
    "    a = 0\n",
    "    b = 1\n",
    "    print(\"Fibonacci: \" + str(a) + \", \" + str(b), end=\"\")\n",
    "    for i in range(2, length):\n",
    "        s = a + b\n",
    "        print(\", \" + str(s), end=\"\")\n",
    "        a = b\n",
    "        b = s\n",
    "\n",
    "fibonacci(10)"
   ]
  },
  {
   "cell_type": "code",
   "execution_count": 27,
   "metadata": {},
   "outputs": [
    {
     "output_type": "stream",
     "name": "stdout",
     "text": [
      "Before Swapping: a = 10 & b = 20\nAfter Swapping: a = 20 & b = 10\n"
     ]
    }
   ],
   "source": [
    "# Q5. Write a program to swapping of two numbers using functions.\n",
    "def swap(a, b):\n",
    "    temp = 0\n",
    "    temp = a\n",
    "    a = b\n",
    "    b = temp\n",
    "    print(\"After Swapping: a = {} & b = {}\".format(a,b))\n",
    "\n",
    "a = 10\n",
    "b = 20\n",
    "print(\"Before Swapping: a = {} & b = {}\".format(a,b))\n",
    "swap(a,b)"
   ]
  },
  {
   "cell_type": "code",
   "execution_count": 32,
   "metadata": {},
   "outputs": [
    {
     "output_type": "stream",
     "name": "stdout",
     "text": [
      "HCF: 4\n"
     ]
    }
   ],
   "source": [
    "# Q6. Write a function to find the HCF of some given numbers.\n",
    "def compute_hcf(x, y):\n",
    "    if x > y:\n",
    "        small = y\n",
    "    else:\n",
    "        small = x\n",
    "\n",
    "    for i in range(1, small + 1):\n",
    "        if (x%i == 0) and (y%i == 0):\n",
    "            hcf = i\n",
    "    return hcf\n",
    "\n",
    "num1 = 20\n",
    "num2 = 24\n",
    "print(\"HCF: {}\".format(compute_hcf(num1, num2)))"
   ]
  },
  {
   "cell_type": "code",
   "execution_count": 37,
   "metadata": {},
   "outputs": [
    {
     "output_type": "stream",
     "name": "stdout",
     "text": [
      "ASCII value: 65\n"
     ]
    }
   ],
   "source": [
    "# Q7. Write a function to find the ASCII value of the character.\n",
    "def get_ascii(num):\n",
    "    return ord(num)\n",
    "\n",
    "num = 'A'\n",
    "print(\"ASCII value:\",get_ascii(num))"
   ]
  },
  {
   "cell_type": "code",
   "execution_count": null,
   "metadata": {},
   "outputs": [],
   "source": [
    "# Q8. Write a program that demonstrates the (built in function) mathematical functions."
   ]
  },
  {
   "cell_type": "code",
   "execution_count": null,
   "metadata": {},
   "outputs": [],
   "source": [
    "# Q9. Write a program that demonstrates the (built in function) Date & Time functions."
   ]
  },
  {
   "cell_type": "code",
   "execution_count": null,
   "metadata": {},
   "outputs": [],
   "source": []
  }
 ]
}