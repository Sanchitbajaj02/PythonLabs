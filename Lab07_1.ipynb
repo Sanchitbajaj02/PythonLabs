{
 "metadata": {
  "language_info": {
   "codemirror_mode": {
    "name": "ipython",
    "version": 3
   },
   "file_extension": ".py",
   "mimetype": "text/x-python",
   "name": "python",
   "nbconvert_exporter": "python",
   "pygments_lexer": "ipython3",
   "version": "3.8.5-final"
  },
  "orig_nbformat": 2,
  "kernelspec": {
   "name": "python3",
   "display_name": "Python 3.8.5 32-bit",
   "metadata": {
    "interpreter": {
     "hash": "2bc9d3d03d6abd05a2a6b4e9db2e2f37b3c445a3e83321d2b915ec6cd4d6c2be"
    }
   }
  }
 },
 "nbformat": 4,
 "nbformat_minor": 2,
 "cells": [
  {
   "cell_type": "code",
   "execution_count": 3,
   "metadata": {},
   "outputs": [
    {
     "output_type": "stream",
     "name": "stdout",
     "text": [
      "{40, 10, 50, 20, 30}\n"
     ]
    }
   ],
   "source": [
    "# Q1. Write a program to create a set\n",
    "set1 = {10, 20, 30, 40, 50}\n",
    "print(set1)"
   ]
  },
  {
   "cell_type": "code",
   "execution_count": 13,
   "metadata": {},
   "outputs": [
    {
     "output_type": "stream",
     "name": "stdout",
     "text": [
      "{40, 10, 110, 50, 20, 30}\n"
     ]
    }
   ],
   "source": [
    "# Q2. Write a program to add an element to set\n",
    "set1 = {10, 20, 30, 40, 50}\n",
    "set1.add(10)\n",
    "print(set1)"
   ]
  },
  {
   "cell_type": "code",
   "execution_count": 15,
   "metadata": {},
   "outputs": [
    {
     "output_type": "stream",
     "name": "stdout",
     "text": [
      "{33, 40, 10, 11, 50, 20, 22, 30}\n"
     ]
    }
   ],
   "source": [
    "# Q3. Write a program to add multiple items using update function\n",
    "set1 = {10, 20, 30, 40, 50}\n",
    "set1.update({11, 22, 33})\n",
    "print(set1)"
   ]
  },
  {
   "cell_type": "code",
   "execution_count": 16,
   "metadata": {},
   "outputs": [
    {
     "output_type": "stream",
     "name": "stdout",
     "text": [
      "Length: 5\n"
     ]
    }
   ],
   "source": [
    "# Q4. Write a program to find length of a set\n",
    "set1 = {10, 20, 30, 40, 50}\n",
    "print(\"Length: {}\".format(len(set1)))"
   ]
  },
  {
   "cell_type": "code",
   "execution_count": 17,
   "metadata": {},
   "outputs": [
    {
     "output_type": "stream",
     "name": "stdout",
     "text": [
      "{40, 50, 20, 30}\n"
     ]
    }
   ],
   "source": [
    "# Q5. Write a program to remove value from a set\n",
    "set1 = {10, 20, 30, 40, 50}\n",
    "set1.remove(10)\n",
    "print(set1)"
   ]
  },
  {
   "cell_type": "code",
   "execution_count": 18,
   "metadata": {},
   "outputs": [
    {
     "output_type": "stream",
     "name": "stdout",
     "text": [
      "{10, 50, 20, 30}\n"
     ]
    }
   ],
   "source": [
    "# Q6. Write a program to pop an element from a set\n",
    "set1 = {10, 20, 30, 40, 50}\n",
    "set1.pop()\n",
    "print(set1)"
   ]
  },
  {
   "cell_type": "code",
   "execution_count": 21,
   "metadata": {},
   "outputs": [
    {
     "output_type": "stream",
     "name": "stdout",
     "text": [
      "{40, 200, 10, 50, 20, 30}\n"
     ]
    }
   ],
   "source": [
    "# Q7. Write a program to update a set\n",
    "set1 = {10, 20, 30, 40, 50}\n",
    "set1.update({200})\n",
    "print(set1)"
   ]
  },
  {
   "cell_type": "code",
   "execution_count": 32,
   "metadata": {},
   "outputs": [
    {
     "output_type": "stream",
     "name": "stdout",
     "text": [
      "Intersection:  {40, 50, 30}\n"
     ]
    }
   ],
   "source": [
    "# Q8. Write a Python program to create an intersection of sets.\n",
    "set1 = {10, 20, 30, 40, 50}\n",
    "set2 = {30, 40, 50, 60, 70}\n",
    "\n",
    "new_set = set1.intersection(set2)\n",
    "print(\"Intersection: \", new_set)"
   ]
  },
  {
   "cell_type": "code",
   "execution_count": 33,
   "metadata": {},
   "outputs": [
    {
     "output_type": "stream",
     "name": "stdout",
     "text": [
      "Union:  {70, 40, 10, 50, 20, 60, 30}\n"
     ]
    }
   ],
   "source": [
    "# Q9. Write a Python program to create a union of sets.\n",
    "set1 = {10, 20, 30, 40, 50}\n",
    "set2 = {30, 40, 50, 60, 70}\n",
    "\n",
    "new_set = set1.union(set2)\n",
    "print(\"Union: \", new_set)"
   ]
  },
  {
   "cell_type": "code",
   "execution_count": 24,
   "metadata": {},
   "outputs": [
    {
     "output_type": "stream",
     "name": "stdout",
     "text": [
      "set()\n"
     ]
    }
   ],
   "source": [
    "# Q10. Write a Python program to clear a set.\n",
    "set1 = {10, 20, 30, 40, 50}\n",
    "set1.clear()\n",
    "print(set1)"
   ]
  },
  {
   "cell_type": "code",
   "execution_count": 27,
   "metadata": {},
   "outputs": [
    {
     "output_type": "stream",
     "name": "stdout",
     "text": [
      "s1 is the subset of s2: True\ns2 is the superset of s1: True\n"
     ]
    }
   ],
   "source": [
    "# Q11. Write a Python program to issubset and issuperset.\n",
    "s1 = {1, 2, 3}\n",
    "s2 = {1, 2, 3, 5, 4, 6}\n",
    "\n",
    "new_set1 = s1.issubset(s2)\n",
    "new_set2 = s2.issuperset(s1)\n",
    "\n",
    "print(\"s1 is the subset of s2: {}\".format(new_set1))\n",
    "print(\"s2 is the superset of s1: {}\".format(new_set2))"
   ]
  },
  {
   "cell_type": "code",
   "execution_count": 30,
   "metadata": {},
   "outputs": [
    {
     "output_type": "stream",
     "name": "stdout",
     "text": [
      "Difference:  {10, 20}\n"
     ]
    }
   ],
   "source": [
    "# Q12. Write a Python program to create set difference.\n",
    "set1 = {10, 20, 30, 40, 50}\n",
    "set2 = {30, 40, 50, 60, 70}\n",
    "\n",
    "diff_set = set1.difference(set2)\n",
    "print(\"Difference: \", diff_set)"
   ]
  },
  {
   "cell_type": "code",
   "execution_count": 31,
   "metadata": {},
   "outputs": [
    {
     "output_type": "stream",
     "name": "stdout",
     "text": [
      "Symmetric Difference:  {20, 70, 10, 60}\n"
     ]
    }
   ],
   "source": [
    "# Q13. Write a Python program to create a symmetric difference.\n",
    "set1 = {10, 20, 30, 40, 50}\n",
    "set2 = {30, 40, 50, 60, 70}\n",
    "\n",
    "sym_diff = set1.symmetric_difference(set2)\n",
    "print(\"Symmetric Difference: \", sym_diff)"
   ]
  }
 ]
}