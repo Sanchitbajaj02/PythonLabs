{
 "cells": [
  {
   "cell_type": "code",
   "execution_count": 1,
   "metadata": {},
   "outputs": [
    {
     "name": "stdout",
     "output_type": "stream",
     "text": [
      "List: [1, 2, 3, 4, 5]\n",
      "Sum of items in list: 15\n"
     ]
    }
   ],
   "source": [
    "# Q1. Write a Python program to sum all the items in a list.\n",
    "sum = 0\n",
    "list1 = [1, 2, 3, 4, 5]\n",
    "for element in list1:\n",
    "    sum = sum + element\n",
    "print(\"List: {}\".format(list1))\n",
    "print(\"Sum of items in list: {}\".format(sum))"
   ]
  },
  {
   "cell_type": "code",
   "execution_count": 2,
   "metadata": {},
   "outputs": [
    {
     "name": "stdout",
     "output_type": "stream",
     "text": [
      "List: [1, 3, 5, 7, 9, 11]\n",
      "Sum of items in list: 10395\n"
     ]
    }
   ],
   "source": [
    "# Q2. Write a Python program to multiplies all the items in a list.\n",
    "multiply = 1\n",
    "list2 = [1, 3, 5, 7, 9, 11]\n",
    "for element in list2:\n",
    "    multiply = multiply * element\n",
    "print(\"List: {}\".format(list2))\n",
    "print(\"Sum of items in list: {}\".format(multiply))"
   ]
  },
  {
   "cell_type": "code",
   "execution_count": 6,
   "metadata": {},
   "outputs": [
    {
     "name": "stdout",
     "output_type": "stream",
     "text": [
      "List: [100, 40, 512, 8, 0, 90, -10]\n",
      "Largest in list: 512\n"
     ]
    }
   ],
   "source": [
    "# Q3. Write a Python program to get the largest number from a list.\n",
    "list3 = [100, 40, 512, 8, 0, 90, -10]\n",
    "large = list3[0]\n",
    "for element in list3:\n",
    "    if large < element:\n",
    "        large = element\n",
    "print(\"List: {}\".format(list3))\n",
    "print(\"Largest in list: {}\".format(large))"
   ]
  },
  {
   "cell_type": "code",
   "execution_count": 5,
   "metadata": {},
   "outputs": [
    {
     "name": "stdout",
     "output_type": "stream",
     "text": [
      "List: [100, 40, 512, 8, 0, 90, -10]\n",
      "Largest in list: -10\n"
     ]
    }
   ],
   "source": [
    "# Q4. Write a Python program to get the smallest number from a list.\n",
    "list4 = [100, 40, 512, 8, 0, 90, -10]\n",
    "small = list4[0]\n",
    "for element in list4:\n",
    "    if small > element:\n",
    "        small = element\n",
    "print(\"List: {}\".format(list4))\n",
    "print(\"Largest in list: {}\".format(small))"
   ]
  },
  {
   "cell_type": "code",
   "execution_count": 9,
   "metadata": {},
   "outputs": [
    {
     "name": "stdout",
     "output_type": "stream",
     "text": [
      "2\n"
     ]
    }
   ],
   "source": [
    "# Q5. Write a Python program to count the number of strings where the string length is 2 or more and the first and last character are same from a given list of strings.\n",
    "# Sample List : ['abc', 'xyz', 'aba', '1221']\n",
    "# Expected Result : 2\n",
    "\n",
    "def match_words(words):\n",
    "    ctr = 0\n",
    "    for word in words:\n",
    "        if len(word) > 1 and word[0] == word[-1]:\n",
    "            ctr += 1\n",
    "    return ctr\n",
    "list5 = ['abc', 'xyz', 'aba', '1221']\n",
    "print(match_words(list5))"
   ]
  },
  {
   "cell_type": "code",
   "execution_count": 22,
   "metadata": {},
   "outputs": [
    {
     "name": "stdout",
     "output_type": "stream",
     "text": [
      "[(2, 1), (1, 2), (2, 3), (4, 4), (2, 5)]\n"
     ]
    }
   ],
   "source": [
    "# Q6. Write a Python program to get a list, sorted in increasing order by the last element in each tuple from a given list of non-empty tuples.\n",
    "# Sample List : [(2, 5), (1, 2), (4, 4), (2, 3), (2, 1)]\n",
    "# Expected Result : [(2, 1), (1, 2), (2, 3), (4, 4), (2, 5)]\n",
    "\n",
    "def last(n):\n",
    "    return n[1]\n",
    "\n",
    "def list_sort(lists):\n",
    "    return sorted(lists, key=last)\n",
    "\n",
    "list6 = [(2, 5), (1, 2), (4, 4), (2, 3), (2, 1)]\n",
    "print(list_sort(list6))"
   ]
  },
  {
   "cell_type": "code",
   "execution_count": 27,
   "metadata": {},
   "outputs": [
    {
     "name": "stdout",
     "output_type": "stream",
     "text": [
      "List after removing duplicates: [1, 3, 4, 10, 2, 8, 7]\n"
     ]
    }
   ],
   "source": [
    "# Q7. Write a Python program to remove duplicates from a list.\n",
    "list7 = [1, 3, 4, 1, 10, 2, 8, 7, 2, 3]\n",
    "res = []\n",
    "for x in list7:\n",
    "    if x not in res:\n",
    "        res.append(x)\n",
    "print(\"List after removing duplicates: {}\".format(res))"
   ]
  },
  {
   "cell_type": "code",
   "execution_count": 29,
   "metadata": {},
   "outputs": [
    {
     "name": "stdout",
     "output_type": "stream",
     "text": [
      "List is filled with elements\n"
     ]
    }
   ],
   "source": [
    "# Q8. Write a Python program to check a list is empty or not.\n",
    "list8 = [1, 2, 3]\n",
    "\n",
    "if not list8:\n",
    "    print(\"List is empty\")\n",
    "else:\n",
    "    print(\"List is filled with elements\")"
   ]
  },
  {
   "cell_type": "code",
   "execution_count": 32,
   "metadata": {},
   "outputs": [
    {
     "name": "stdout",
     "output_type": "stream",
     "text": [
      "Original List: [11, 22, 33, 44, 55]\n",
      "New List: [11, 22, 33, 44, 55]\n"
     ]
    }
   ],
   "source": [
    "# Q9. Write a Python program to clone or copy a list.\n",
    "def cloning(old_list):\n",
    "    new_list = []\n",
    "    new_list = old_list\n",
    "    return new_list\n",
    "\n",
    "l1 = [11,22,33,44,55]\n",
    "l2 = cloning(l1)\n",
    "print(\"Original List: {}\".format(l1))\n",
    "print(\"New List: {}\".format(l2))"
   ]
  },
  {
   "cell_type": "code",
   "execution_count": 1,
   "metadata": {},
   "outputs": [
    {
     "name": "stdout",
     "output_type": "stream",
     "text": [
      "['abcre', 'qwerty', 'xyzwqbc']\n"
     ]
    }
   ],
   "source": [
    "# Q10. Write a Python program to find the list of words that are longer than n from a given list of words.\n",
    "n = 4\n",
    "list_10 = [\"abc\", \"abcre\", \"qwerty\", \"xyzwqbc\", \"bd\"]\n",
    "new_list = []\n",
    "for x in list_10:\n",
    "    if len(x) > n:\n",
    "        new_list.append(x)\n",
    "\n",
    "print(new_list)"
   ]
  },
  {
   "cell_type": "code",
   "execution_count": 5,
   "metadata": {},
   "outputs": [
    {
     "name": "stdout",
     "output_type": "stream",
     "text": [
      "True\n"
     ]
    }
   ],
   "source": [
    "# Q11. Write a Python function that takes two lists and returns True if they have at least one common member.\n",
    "def common_member(l1, l2):\n",
    "    a_set = set(l1) \n",
    "    b_set = set(l2) \n",
    "    if (a_set & b_set): \n",
    "        return True \n",
    "    else: \n",
    "        return False\n",
    "\n",
    "l1 = [2, 4, 6, 8]\n",
    "l2 = [1, 4, 6, 7]                      \n",
    "print(common_member(l1, l2))"
   ]
  },
  {
   "cell_type": "code",
   "execution_count": 10,
   "metadata": {},
   "outputs": [
    {
     "name": "stdout",
     "output_type": "stream",
     "text": [
      "Original List: ['Red', 'Green', 'White', 'Black', 'Pink', 'Yellow']\n",
      "New List: ['Green', 'White', 'Black']\n"
     ]
    }
   ],
   "source": [
    "# Q12. Write a Python program to print a specified list after removing the 0th, 4th and 5th elements.  \n",
    "# Sample List : ['Red', 'Green', 'White', 'Black', 'Pink', 'Yellow']\n",
    "# Expected Output : ['Green', 'White', 'Black']\n",
    "color_list = ['Red', 'Green', 'White', 'Black', 'Pink', 'Yellow']\n",
    "new_list = []\n",
    "for index,color in enumerate(color_list):\n",
    "    if index not in (0,4,5):\n",
    "        new_list.append(color)\n",
    "\n",
    "print(\"Original List: {}\".format(color_list))\n",
    "print(\"New List: {}\".format(new_list))"
   ]
  },
  {
   "cell_type": "code",
   "execution_count": null,
   "metadata": {},
   "outputs": [],
   "source": []
  }
 ],
 "metadata": {
  "kernelspec": {
   "display_name": "Python 3",
   "language": "python",
   "name": "python3"
  },
  "language_info": {
   "codemirror_mode": {
    "name": "ipython",
    "version": 3
   },
   "file_extension": ".py",
   "mimetype": "text/x-python",
   "name": "python",
   "nbconvert_exporter": "python",
   "pygments_lexer": "ipython3",
   "version": "3.8.5"
  }
 },
 "nbformat": 4,
 "nbformat_minor": 2
}
