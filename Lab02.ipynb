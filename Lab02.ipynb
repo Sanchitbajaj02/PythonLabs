{
 "cells": [
  {
   "cell_type": "code",
   "execution_count": 1,
   "metadata": {},
   "outputs": [
    {
     "name": "stdout",
     "output_type": "stream",
     "text": [
      "Enter a number: 6\n",
      "6 is even\n"
     ]
    }
   ],
   "source": [
    "# Q1. Check whether a number is even or odd\n",
    "is_even = int(input(\"Enter a number: \"))\n",
    "if is_even % 2 == 0:\n",
    "    print(\"{} is even\".format(is_even))\n",
    "else:\n",
    "    print(\"{} is odd\".format(is_even))"
   ]
  },
  {
   "cell_type": "code",
   "execution_count": 3,
   "metadata": {},
   "outputs": [
    {
     "name": "stdout",
     "output_type": "stream",
     "text": [
      "2000 is a leap year\n"
     ]
    }
   ],
   "source": [
    "#Q2. Check whether an entered year is leap year or not.\n",
    "year = int(input(\"Enter the year: \"))\n",
    "if (year%4) == 0:\n",
    "    if (year%100) == 0:\n",
    "        if (year%400) == 0:\n",
    "            print(\"{} is a leap year\".format(year))\n",
    "        else:\n",
    "            print(\"{} is not a leap year\".format(year))\n",
    "    else:\n",
    "        print(\"{} is a leap year\".format(year))\n",
    "else:\n",
    "    print(\"{} is not a leap year\".format(year))"
   ]
  },
  {
   "cell_type": "code",
   "execution_count": 4,
   "metadata": {},
   "outputs": [
    {
     "name": "stdout",
     "output_type": "stream",
     "text": [
      "i is a vowel\n"
     ]
    }
   ],
   "source": [
    "#Q3. Write a program to check whether a character is vowel or consonants.\n",
    "is_vowel = input(\"Enter a character: \")\n",
    "is_vowel = is_vowel.lower()\n",
    "if is_vowel == 'a' or is_vowel == 'e' or is_vowel == 'i' or is_vowel == 'o' or is_vowel == 'u':\n",
    "    print(\"{} is a vowel\".format(is_vowel))\n",
    "else:\n",
    "    print(\"{} is a consonent\".format(is_vowel))  "
   ]
  },
  {
   "cell_type": "code",
   "execution_count": 5,
   "metadata": {},
   "outputs": [
    {
     "name": "stdout",
     "output_type": "stream",
     "text": [
      "10 is a smallest number\n"
     ]
    }
   ],
   "source": [
    "#Q4. Write a program to find the smallest of two numbers.\n",
    "num1 = int(input(\"Enter 1st number: \"))\n",
    "num2 = int(input(\"Enter 2nd number: \"))\n",
    "\n",
    "#Ternary operator used\n",
    "min = num1 if num1 < num2 else num2\n",
    "print(\"{} is a smallest number\".format(min))"
   ]
  },
  {
   "cell_type": "code",
   "execution_count": 6,
   "metadata": {},
   "outputs": [
    {
     "name": "stdout",
     "output_type": "stream",
     "text": [
      "Factorial of number 5 is: 120\n"
     ]
    }
   ],
   "source": [
    "#Q5. Find the Factorial of a Number\n",
    "ret_fac = int(input(\"Enter the number for factorial: \"))\n",
    "fac = 1\n",
    "for i in range (1, ret_fac + 1):\n",
    "    fac = fac * i\n",
    "print(\"Factorial of number {} is: {}\".format(ret_fac, fac))"
   ]
  },
  {
   "cell_type": "code",
   "execution_count": 7,
   "metadata": {},
   "outputs": [
    {
     "name": "stdout",
     "output_type": "stream",
     "text": [
      "      * \n",
      "     * * \n",
      "    * * * \n",
      "   * * * * \n"
     ]
    }
   ],
   "source": [
    "#Q6. Write a program to print this patterns\n",
    "#         *\n",
    "#      *     *\n",
    "#    *    *     *\n",
    "# *    *     *     *  \n",
    "\n",
    "def triangle(n): \n",
    "    k = 2*n - 2\n",
    "    for i in range(0, n): \n",
    "        for j in range(0, k): \n",
    "            print(end=\" \") \n",
    "    \n",
    "        k = k - 1\n",
    "    \n",
    "        for j in range(0, i+1): \n",
    "            print(\"* \", end=\"\") \n",
    "        print(\"\\r\") \n",
    "  \n",
    "n = 4\n",
    "triangle(n) "
   ]
  },
  {
   "cell_type": "code",
   "execution_count": 7,
   "metadata": {},
   "outputs": [
    {
     "name": "stdout",
     "output_type": "stream",
     "text": [
      "0 1 1 2 3 5 8 13 "
     ]
    }
   ],
   "source": [
    "#Q7. Write a program to print this series: 1 1 2 3 5 8 13 \n",
    "a = 0\n",
    "b = 1\n",
    "print(a, b, end=' ')\n",
    "for i in range(a, 6):\n",
    "    s = a + b\n",
    "    print(s, end=' ')\n",
    "    a = b\n",
    "    b = s"
   ]
  },
  {
   "cell_type": "code",
   "execution_count": 8,
   "metadata": {},
   "outputs": [
    {
     "name": "stdout",
     "output_type": "stream",
     "text": [
      "11 is a prime number\n"
     ]
    }
   ],
   "source": [
    "#Q8. Check whether a number is prime or not\n",
    "is_prime = int(input(\"Enter the number: \"))\n",
    "if is_prime > 1:\n",
    "    for i in range(2, is_prime):\n",
    "        if (is_prime % i) == 0:\n",
    "            print(\"{} is not a prime number\".format(is_prime))\n",
    "            break\n",
    "        else:\n",
    "            print(\"{} is a prime number\".format(is_prime))\n",
    "            break\n",
    "else:\n",
    "    print(\"{} is not a prime number\".format(is_prime))"
   ]
  },
  {
   "cell_type": "code",
   "execution_count": 9,
   "metadata": {},
   "outputs": [
    {
     "name": "stdout",
     "output_type": "stream",
     "text": [
      "----Simple calculator----\n",
      "1.Addition, 2.Subtraction, 3.Multiplication, 4.Division, 5.Remainder\n",
      "Product of 5 and 4 is: 20\n"
     ]
    }
   ],
   "source": [
    "#Q9. Make a Simple Calculator.\n",
    "def add(x, y):\n",
    "    return x + y\n",
    "def sub(x, y):\n",
    "    return x - y\n",
    "def mul(x, y):\n",
    "    return x * y\n",
    "def div(x, y):\n",
    "    return x / y\n",
    "def mod(x, y):\n",
    "    return x % y\n",
    "\n",
    "val1 = int(input(\"Enter 1st number: \"))\n",
    "val2 = int(input(\"Enter 2nd number: \"))\n",
    "print(\"----Simple calculator----\")\n",
    "print(\"1.Addition, 2.Subtraction, 3.Multiplication, 4.Division, 5.Remainder\")\n",
    "choice = int(input(\"Enter choice: \"))\n",
    "\n",
    "if(choice == 1):\n",
    "    print(\"Sum of {} and {} is: {}\".format(val1, val2, add(val1, val2)))\n",
    "elif(choice == 2):\n",
    "    print(\"Difference of {} and {} is: {}\".format(val1, val2, sub(val1, val2)))\n",
    "elif(choice == 3):\n",
    "    print(\"Product of {} and {} is: {}\".format(val1, val2, mul(val1, val2)))\n",
    "elif(choice == 4):\n",
    "    print(\"Quotient of {} and {} is: {}\".format(val1, val2, div(val1, val2)))\n",
    "elif(choice == 5):\n",
    "    print(\"Remainder of {} and {} is: {}\".format(val1, val2, mod(val1, val2)))"
   ]
  },
  {
   "cell_type": "code",
   "execution_count": null,
   "metadata": {},
   "outputs": [],
   "source": []
  }
 ],
 "metadata": {
  "kernelspec": {
   "display_name": "Python 3",
   "language": "python",
   "name": "python3"
  },
  "language_info": {
   "codemirror_mode": {
    "name": "ipython",
    "version": 3
   },
   "file_extension": ".py",
   "mimetype": "text/x-python",
   "name": "python",
   "nbconvert_exporter": "python",
   "pygments_lexer": "ipython3",
   "version": "3.8.5"
  }
 },
 "nbformat": 4,
 "nbformat_minor": 2
}
