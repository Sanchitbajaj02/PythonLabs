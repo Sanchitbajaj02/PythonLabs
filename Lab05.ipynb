{
 "cells": [
  {
   "cell_type": "code",
   "execution_count": 7,
   "metadata": {},
   "outputs": [
    {
     "name": "stdout",
     "output_type": "stream",
     "text": [
      "('this', 'is', 'first', 'question')\n"
     ]
    }
   ],
   "source": [
    "# Q1. Write a Python program to create a tuple.\n",
    "tup=('this', 'is', 'first', 'question') \n",
    "print(tup)"
   ]
  },
  {
   "cell_type": "code",
   "execution_count": 8,
   "metadata": {},
   "outputs": [
    {
     "name": "stdout",
     "output_type": "stream",
     "text": [
      "(23214, 23.1993, 'hello', 's', True)\n"
     ]
    }
   ],
   "source": [
    "# Q2. Write a Python program to create a tuple with different data types.\n",
    "tup=(23214, 23.1993, \"hello\", 's', True) \n",
    "print(tup)"
   ]
  },
  {
   "cell_type": "code",
   "execution_count": 9,
   "metadata": {},
   "outputs": [
    {
     "name": "stdout",
     "output_type": "stream",
     "text": [
      "12\n"
     ]
    }
   ],
   "source": [
    "# Q3. Write a Python program to create a tuple with numbers and print one item.\n",
    "num_tuple = (12, 10, 2, 0, 20)\n",
    "print(num_tuple[0])"
   ]
  },
  {
   "cell_type": "code",
   "execution_count": 11,
   "metadata": {},
   "outputs": [
    {
     "name": "stdout",
     "output_type": "stream",
     "text": [
      "18:20:30\n"
     ]
    }
   ],
   "source": [
    "# Q4. Write a Python program to unpack a tuple in several variables.\n",
    "time_tup = (18, 20, 30)\n",
    "hour, min, sec = time_tup\n",
    "print(\"{}:{}:{}\".format(hour, min, sec))"
   ]
  },
  {
   "cell_type": "code",
   "execution_count": 15,
   "metadata": {},
   "outputs": [
    {
     "name": "stdout",
     "output_type": "stream",
     "text": [
      "Old Tuple: (1, 3, 9, 11, 13, 15)\n",
      "New Tuple: (1, 3, 5, 7, 9, 11, 13, 15)\n"
     ]
    }
   ],
   "source": [
    "# Q5. Write a Python program to add an item in a tuple.\n",
    "odd_tuple = (1, 3, 9, 11, 13, 15)\n",
    "print(\"Old Tuple: {}\".format(odd_tuple))\n",
    "\n",
    "odd_tuple = odd_tuple[:2] + (5, 7) + odd_tuple[2:]\n",
    "print(\"New Tuple: {}\".format(odd_tuple))"
   ]
  },
  {
   "cell_type": "code",
   "execution_count": 28,
   "metadata": {},
   "outputs": [
    {
     "name": "stdout",
     "output_type": "stream",
     "text": [
      "this is question six\n"
     ]
    }
   ],
   "source": [
    "# Q6. Write a Python program to convert a tuple to a string.\n",
    "tup = (\"this\", \"is\", \"question\", \"six\")\n",
    "string = ' '.join(tup)\n",
    "print(string)"
   ]
  },
  {
   "cell_type": "code",
   "execution_count": 31,
   "metadata": {},
   "outputs": [
    {
     "name": "stdout",
     "output_type": "stream",
     "text": [
      "4th element from beginning: 4\n",
      "4th element from end: 4\n"
     ]
    }
   ],
   "source": [
    "# Q7. Write a Python program to get the 4th element and 4th element from last of a tuple.\n",
    "num_tuple = (0, 1, 2, 3, 4, 5, 6, 7)\n",
    "print(\"4th element from beginning: {}\".format(num_tuple[4]))\n",
    "print(\"4th element from end: {}\".format(num_tuple[-4]))"
   ]
  },
  {
   "cell_type": "code",
   "execution_count": 37,
   "metadata": {},
   "outputs": [
    {
     "name": "stdout",
     "output_type": "stream",
     "text": [
      "1 3 1 3 "
     ]
    }
   ],
   "source": [
    "# Q8. Write a Python program to find the repeated items of a tuple.\n",
    "repeat_tuple = (1, 3, 5, 6, 2, 1, 4, 3)\n",
    "for i in repeat_tuple:\n",
    "    # print(repeat_tuple.count(i))\n",
    "    if repeat_tuple.count(i) > 1:\n",
    "        print(i, end=\" \")"
   ]
  },
  {
   "cell_type": "code",
   "execution_count": 39,
   "metadata": {},
   "outputs": [
    {
     "name": "stdout",
     "output_type": "stream",
     "text": [
      "False\n",
      "True\n"
     ]
    }
   ],
   "source": [
    "# Q9. Write a Python program to check whether an element exists within a tuple.\n",
    "str_tuple = ('s', 'a', 'n', 'c', 'h', 'i', 't')\n",
    "print(\"x\" in str_tuple)\n",
    "print(\"i\" in str_tuple)"
   ]
  },
  {
   "cell_type": "code",
   "execution_count": 40,
   "metadata": {},
   "outputs": [
    {
     "name": "stdout",
     "output_type": "stream",
     "text": [
      "List: [2, 4, 6, 8, 10]\n",
      "Tuple: (2, 4, 6, 8, 10)\n"
     ]
    }
   ],
   "source": [
    "# Q10. Write a Python program to convert a list to a tuple.\n",
    "test_list = [2, 4, 6, 8, 10]\n",
    "test_tuple = tuple(test_list)\n",
    "print(\"List: {}\".format(test_list))\n",
    "print(\"Tuple: {}\".format(test_tuple))"
   ]
  },
  {
   "cell_type": "code",
   "execution_count": 43,
   "metadata": {},
   "outputs": [
    {
     "name": "stdout",
     "output_type": "stream",
     "text": [
      "Updated tuple: (1, 4, 9, 16, 25, 36)\n"
     ]
    }
   ],
   "source": [
    "# Q11. Write a Python program to remove an item from a tuple.\n",
    "tup = (1, 4, 9, 16, 25, 36, 49)\n",
    "new_list = list(tup)\n",
    "new_list.pop()\n",
    "print(\"Updated tuple: {}\".format(tuple(new_list)))"
   ]
  },
  {
   "cell_type": "code",
   "execution_count": 44,
   "metadata": {},
   "outputs": [
    {
     "name": "stdout",
     "output_type": "stream",
     "text": [
      "Original Tuple: (0, 10, 20, 30, 40, 50)\n",
      "Sliced Tuple: (20, 30, 40)\n"
     ]
    }
   ],
   "source": [
    "# Q12. Write a Python program to slice a tuple.\n",
    "given_tuple = (0, 10, 20, 30, 40, 50)\n",
    "sliced = given_tuple[2:5]\n",
    "print(\"Original Tuple: {}\".format(given_tuple))\n",
    "print(\"Sliced Tuple: {}\".format(sliced))"
   ]
  },
  {
   "cell_type": "code",
   "execution_count": 54,
   "metadata": {},
   "outputs": [
    {
     "name": "stdout",
     "output_type": "stream",
     "text": [
      "3\n"
     ]
    }
   ],
   "source": [
    "# Q13. Write a Python program to find the index of an item of a tuple. \n",
    "tup = (1, 3, 7, 8, 7, 5, 4, 6, 8, 5)\n",
    "print(tup.index(8))"
   ]
  },
  {
   "cell_type": "code",
   "execution_count": 57,
   "metadata": {},
   "outputs": [
    {
     "name": "stdout",
     "output_type": "stream",
     "text": [
      "Length of tuple: 18\n"
     ]
    }
   ],
   "source": [
    "# Q14. Write a Python program to find the length of a tuple.\n",
    "tup=(1,21,23,143,1,5,42,2,2,54125,421,5,3,25,436356,3452,41231,452)\n",
    "print(\"Length of tuple: {}\".format(len(tup)))"
   ]
  },
  {
   "cell_type": "code",
   "execution_count": 60,
   "metadata": {},
   "outputs": [
    {
     "name": "stdout",
     "output_type": "stream",
     "text": [
      "('o', 'l', 'l', 'e', 'h')\n"
     ]
    }
   ],
   "source": [
    "# Q15. Write a Python program to reverse a tuple.\n",
    "tup1 = (\"hello\")\n",
    "tup2 = reversed(tup1)\n",
    "print(tuple(tup2))"
   ]
  },
  {
   "cell_type": "code",
   "execution_count": null,
   "metadata": {},
   "outputs": [],
   "source": []
  }
 ],
 "metadata": {
  "kernelspec": {
   "display_name": "Python 3",
   "language": "python",
   "name": "python3"
  },
  "language_info": {
   "codemirror_mode": {
    "name": "ipython",
    "version": 3
   },
   "file_extension": ".py",
   "mimetype": "text/x-python",
   "name": "python",
   "nbconvert_exporter": "python",
   "pygments_lexer": "ipython3",
   "version": "3.8.5"
  }
 },
 "nbformat": 4,
 "nbformat_minor": 2
}
