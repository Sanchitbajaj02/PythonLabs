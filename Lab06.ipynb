{
 "metadata": {
  "language_info": {
   "codemirror_mode": {
    "name": "ipython",
    "version": 3
   },
   "file_extension": ".py",
   "mimetype": "text/x-python",
   "name": "python",
   "nbconvert_exporter": "python",
   "pygments_lexer": "ipython3",
   "version": "3.8.5"
  },
  "orig_nbformat": 2,
  "kernelspec": {
   "name": "python3",
   "display_name": "Python 3",
   "language": "python"
  }
 },
 "nbformat": 4,
 "nbformat_minor": 2,
 "cells": [
  {
   "source": [
    "Dictonary"
   ],
   "cell_type": "markdown",
   "metadata": {}
  },
  {
   "cell_type": "code",
   "execution_count": 4,
   "metadata": {},
   "outputs": [
    {
     "output_type": "stream",
     "name": "stdout",
     "text": [
      "Empty dictonary: \n {}\n"
     ]
    }
   ],
   "source": [
    "# Q1. Create an empty dictionary\n",
    "dict1 = {}\n",
    "print(\"Empty dictonary: \\n {}\".format(dict1))"
   ]
  },
  {
   "cell_type": "code",
   "execution_count": 12,
   "metadata": {},
   "outputs": [
    {
     "output_type": "stream",
     "name": "stdout",
     "text": [
      "{'A': 10, 'B': 20}\n"
     ]
    }
   ],
   "source": [
    "# Q2. Create the following dictionary \n",
    "# a.\tKey\tvalue\n",
    "# b.\tA\t10\n",
    "# c.\tB\t20\n",
    "\n",
    "dict2 = {\n",
    "    \"A\": 10,\n",
    "    \"B\": 20\n",
    "}\n",
    "print(dict2)"
   ]
  },
  {
   "cell_type": "code",
   "execution_count": 20,
   "metadata": {},
   "outputs": [
    {
     "output_type": "stream",
     "name": "stdout",
     "text": [
      "{'Integer': 1, 'Float': 9.81, 'Character': 'a', 'String': 'hello world', 'List': ['x', 'y', 'z'], 'Tuple': (1, 3, 5), 'Null': None}\n"
     ]
    }
   ],
   "source": [
    "# Q3. Create a dictionary with different datatypes for keys\n",
    "diff_dict = {\n",
    "    \"Integer\": 1,\n",
    "    \"Float\": 9.81,\n",
    "    \"Character\": \"a\",\n",
    "    \"String\": \"hello world\",\n",
    "    \"List\": ['x', 'y', 'z'],\n",
    "    \"Tuple\": (1, 3, 5),\n",
    "    \"Null\": None\n",
    "}\n",
    "print(diff_dict)"
   ]
  },
  {
   "cell_type": "code",
   "execution_count": 22,
   "metadata": {},
   "outputs": [
    {
     "output_type": "stream",
     "name": "stdout",
     "text": [
      "User details: \n{'Name': 'Sanchit', 'Age': 20, 'Email': 'xyz@abc.in'}\n"
     ]
    }
   ],
   "source": [
    "# Q4. Print all the items of a dictionary\n",
    "user = {\n",
    "    \"Name\": \"Sanchit\",\n",
    "    \"Age\": 20,\n",
    "    \"Email\": \"xyz@abc.in\",\n",
    "}\n",
    "print(\"User details: \\n{}\".format(user))"
   ]
  },
  {
   "cell_type": "code",
   "execution_count": 24,
   "metadata": {},
   "outputs": [
    {
     "output_type": "stream",
     "name": "stdout",
     "text": [
      "{'Name': 'Sanchit', 'Email': 'xyz@abc.in'}\n"
     ]
    }
   ],
   "source": [
    "# Q5. Delete an element of a dictionary\n",
    "user = {\n",
    "    \"Name\": \"Sanchit\",\n",
    "    \"Age\": 20,\n",
    "    \"Email\": \"xyz@abc.in\",\n",
    "}\n",
    "user.pop(\"Age\")\n",
    "print(user)"
   ]
  },
  {
   "cell_type": "code",
   "execution_count": 4,
   "metadata": {},
   "outputs": [
    {
     "output_type": "stream",
     "name": "stdout",
     "text": [
      "{'id': 101, 'name': 'qwerty', 'email': 'qwerty@xyz.com', 'is_active': 0}\n"
     ]
    },
    {
     "output_type": "error",
     "ename": "NameError",
     "evalue": "name 'old_user' is not defined",
     "traceback": [
      "\u001b[1;31m---------------------------------------------------------------------------\u001b[0m",
      "\u001b[1;31mNameError\u001b[0m                                 Traceback (most recent call last)",
      "\u001b[1;32m<ipython-input-4-f3e56a9f42bd>\u001b[0m in \u001b[0;36m<module>\u001b[1;34m\u001b[0m\n\u001b[0;32m      8\u001b[0m \u001b[0mprint\u001b[0m\u001b[1;33m(\u001b[0m\u001b[0mold_user\u001b[0m\u001b[1;33m)\u001b[0m\u001b[1;33m\u001b[0m\u001b[1;33m\u001b[0m\u001b[0m\n\u001b[0;32m      9\u001b[0m \u001b[1;32mdel\u001b[0m \u001b[0mold_user\u001b[0m\u001b[1;33m\u001b[0m\u001b[1;33m\u001b[0m\u001b[0m\n\u001b[1;32m---> 10\u001b[1;33m \u001b[0mprint\u001b[0m\u001b[1;33m(\u001b[0m\u001b[0mold_user\u001b[0m\u001b[1;33m)\u001b[0m\u001b[1;33m\u001b[0m\u001b[1;33m\u001b[0m\u001b[0m\n\u001b[0m",
      "\u001b[1;31mNameError\u001b[0m: name 'old_user' is not defined"
     ]
    }
   ],
   "source": [
    "# Q6. Delete full dictionary\n",
    "old_user = {\n",
    "    \"id\": 101,\n",
    "    \"name\": \"qwerty\",\n",
    "    \"email\": \"qwerty@xyz.com\",\n",
    "    \"is_active\": 0\n",
    "}\n",
    "print(old_user)\n",
    "del old_user\n",
    "print(old_user)"
   ]
  },
  {
   "cell_type": "code",
   "execution_count": 33,
   "metadata": {},
   "outputs": [
    {
     "output_type": "stream",
     "name": "stdout",
     "text": [
      "value2\n"
     ]
    }
   ],
   "source": [
    "# Q7. Print a value for a key\n",
    "dict7 = {\n",
    "    \"key1\": \"value1\",\n",
    "    \"key2\": \"value2\",\n",
    "    \"key3\": \"value3\",\n",
    "    \"key4\": \"value4\",\n",
    "}\n",
    "\n",
    "print(dict7[\"key2\"])"
   ]
  },
  {
   "cell_type": "code",
   "execution_count": 35,
   "metadata": {},
   "outputs": [
    {
     "output_type": "stream",
     "name": "stdout",
     "text": [
      "Key4 is present in dict8\n"
     ]
    }
   ],
   "source": [
    "# Q8. To check if a key id present in a dictionary\n",
    "dict8 = {\n",
    "    \"key1\": \"value1\",\n",
    "    \"key2\": \"value2\",\n",
    "    \"key3\": \"value3\",\n",
    "    \"key4\": \"value4\",\n",
    "}\n",
    "if \"key4\" in dict8:\n",
    "    print(\"Key4 is present in dict8\")\n",
    "else:\n",
    "    print(\"Key4 is not present in dict8\")    "
   ]
  },
  {
   "cell_type": "code",
   "execution_count": 38,
   "metadata": {},
   "outputs": [
    {
     "output_type": "stream",
     "name": "stdout",
     "text": [
      "{'key1': 'value10', 'key2': 'value2', 'key3': 'value3', 'key4': 'value4'}\n"
     ]
    }
   ],
   "source": [
    "# Q9. Update a value of a key\n",
    "dict9 = {\n",
    "    \"key1\": \"value1\",\n",
    "    \"key2\": \"value2\",\n",
    "    \"key3\": \"value3\",\n",
    "    \"key4\": \"value4\",\n",
    "}\n",
    "dict9.update({\"key1\": \"value10\"})\n",
    "print(dict9)"
   ]
  },
  {
   "cell_type": "code",
   "execution_count": 41,
   "metadata": {},
   "outputs": [
    {
     "output_type": "stream",
     "name": "stdout",
     "text": [
      "{'Name': 'Sanchit', 'Age': 20, 'Email': 'xyz@abc.in', 'is_active': True}\n"
     ]
    }
   ],
   "source": [
    "# Q10. Add a new key value pair\n",
    "user = {\n",
    "    \"Name\": \"Sanchit\",\n",
    "    \"Age\": 20,\n",
    "    \"Email\": \"xyz@abc.in\",\n",
    "}\n",
    "user[\"is_active\"] = True\n",
    "print(user)"
   ]
  },
  {
   "cell_type": "code",
   "execution_count": 48,
   "metadata": {},
   "outputs": [
    {
     "output_type": "stream",
     "name": "stdout",
     "text": [
      "{1: 1, 2: 4, 3: 9, 4: 16, 5: 25, 6: 36, 7: 49, 8: 64, 9: 81, 10: 100}\n"
     ]
    }
   ],
   "source": [
    "# Q11. Print dictionary for keys{1,10} and values as square of keys\n",
    "keys=10\n",
    "square_dict = {}\n",
    "for i in range(1, keys+1):\n",
    "    square_dict[i] = i**2\n",
    "print(square_dict)"
   ]
  },
  {
   "cell_type": "code",
   "execution_count": 50,
   "metadata": {},
   "outputs": [
    {
     "output_type": "stream",
     "name": "stdout",
     "text": [
      "{'child1': {'id': 100, 'year': 2000}, 'child2': {'id': 101, 'year': 1999}, 'child3': {'id': 102, 'year': 2001}}\n"
     ]
    }
   ],
   "source": [
    "# Q12. Print nested dictionary\n",
    "parent = {\n",
    "    \"child1\": {\n",
    "        \"id\": 100,\n",
    "        \"year\": 2000,\n",
    "    },\n",
    "    \"child2\": {\n",
    "        \"id\": 101,\n",
    "        \"year\": 1999,\n",
    "    },\n",
    "    \"child3\": {\n",
    "        \"id\": 102,\n",
    "        \"year\": 2001\n",
    "    }\n",
    "}\n",
    "print(parent)"
   ]
  },
  {
   "cell_type": "code",
   "execution_count": 65,
   "metadata": {},
   "outputs": [
    {
     "output_type": "stream",
     "name": "stdout",
     "text": [
      "{1: 10, 2: 20, 3: 30, 4: 40, 5: 50, 6: 60}\n"
     ]
    }
   ],
   "source": [
    "# Q13. Concatenate three dictionaries\n",
    "# Sample Dictionary :\n",
    "# dic1={1:10, 2:20}\n",
    "# dic2={3:30, 4:40}\n",
    "# dic3={5:50,6:60}\n",
    "# Expected Result : {1: 10, 2: 20, 3: 30, 4: 40, 5: 50, 6: 60}\n",
    "\n",
    "dic1={1:10, 2:20}\n",
    "dic2={3:30, 4:40}\n",
    "dic3={5:50,6:60}\n",
    "dic4={}\n",
    "for d in (dic1, dic2, dic3):\n",
    "    dic4.update(d)\n",
    "print(dic4)\n"
   ]
  },
  {
   "cell_type": "code",
   "execution_count": 68,
   "metadata": {},
   "outputs": [
    {
     "output_type": "stream",
     "name": "stdout",
     "text": [
      "Sum of dictionary: 145\n"
     ]
    }
   ],
   "source": [
    "# Q14. Sum all the values of a dictionary\n",
    "sum_dict = {\n",
    "    \"val1\": 10,\n",
    "    \"val2\": 20,\n",
    "    \"val3\": 25,\n",
    "    \"val4\": 40,\n",
    "    \"val5\": 50,\n",
    "}\n",
    "sum = 0\n",
    "for i in sum_dict:\n",
    "    sum += sum_dict[i]\n",
    "\n",
    "print(\"Sum of dictionary: {}\".format(sum))"
   ]
  },
  {
   "cell_type": "code",
   "execution_count": 73,
   "metadata": {},
   "outputs": [
    {
     "output_type": "stream",
     "name": "stdout",
     "text": [
      "100\n2000\n"
     ]
    }
   ],
   "source": [
    "# Q15. Accessing an element of a nested dictionary\n",
    "parent = {\n",
    "    \"child1\": {\n",
    "        \"id\": 100,\n",
    "        \"year\": 2000,\n",
    "    },\n",
    "    \"child2\": {\n",
    "        \"id\": 101,\n",
    "        \"year\": 1999,\n",
    "    },\n",
    "    \"child3\": {\n",
    "        \"id\": 102,\n",
    "        \"year\": 2001\n",
    "    }\n",
    "}\n",
    "print(parent[\"child1\"][\"id\"])\n",
    "print(parent[\"child1\"][\"year\"])"
   ]
  },
  {
   "cell_type": "code",
   "execution_count": 76,
   "metadata": {},
   "outputs": [
    {
     "output_type": "stream",
     "name": "stdout",
     "text": [
      "Result:  {1: 1, 2: 4, 3: 9, 4: 16, 5: 25, 6: 36, 7: 49, 8: 64, 9: 81, 10: 100, 11: 121, 12: 144, 13: 169, 14: 196, 15: 225}\n"
     ]
    }
   ],
   "source": [
    "# Q16. Write a Python script to print a dictionary where the keys are numbers between 1 and 15 (both included) and the values are square of keys.\n",
    "# Sample Dictionary\n",
    "# {1: 1, 2: 4, 3: 9, 4: 16, 5: 25, 6: 36, 7: 49, 8: 64, 9: 81, 10: 100, 11: 121, 12: 144, 13: 169, 14: 196, 15: 225}\n",
    "\n",
    "keys=15\n",
    "square_dict = {i: i**2 for i in range(1, keys+1)}\n",
    "print(\"Result: \",square_dict)"
   ]
  },
  {
   "cell_type": "code",
   "execution_count": 81,
   "metadata": {},
   "outputs": [
    {
     "output_type": "stream",
     "name": "stdout",
     "text": [
      "Factorial of 5 numbers are: \n{1: 1, 2: 2, 3: 6, 4: 24, 5: 120}\n"
     ]
    }
   ],
   "source": [
    "# Q17. Insert factorial of keys in values. And print dictionary\n",
    "def fact(num):\n",
    "    res = 1\n",
    "    for i in range(1,num+1):\n",
    "        res *= i\n",
    "    return res\n",
    "\n",
    "keys=5\n",
    "fact_dict = {i: fact(i) for i in range(1, keys + 1)}\n",
    "print(\"Factorial of {} numbers are: \\n{}\".format(keys, fact_dict))"
   ]
  },
  {
   "source": [
    "Sets"
   ],
   "cell_type": "markdown",
   "metadata": {}
  },
  {
   "cell_type": "code",
   "execution_count": 5,
   "metadata": {},
   "outputs": [
    {
     "output_type": "stream",
     "name": "stdout",
     "text": [
      "{40, 10, 50, 20, 30}\n"
     ]
    }
   ],
   "source": [
    "# Q1. Write a program to create a set\n",
    "set1 = {10, 20, 30, 40, 50}\n",
    "print(set1)"
   ]
  },
  {
   "cell_type": "code",
   "execution_count": 6,
   "metadata": {},
   "outputs": [
    {
     "output_type": "stream",
     "name": "stdout",
     "text": [
      "{40, 10, 50, 20, 30}\n"
     ]
    }
   ],
   "source": [
    "# Q2. Write a program to add an element to set\n",
    "set1 = {10, 20, 30, 40, 50}\n",
    "set1.add(10)\n",
    "print(set1)"
   ]
  },
  {
   "cell_type": "code",
   "execution_count": 9,
   "metadata": {},
   "outputs": [
    {
     "output_type": "stream",
     "name": "stdout",
     "text": [
      "{33, 40, 10, 11, 50, 20, 22, 30}\n"
     ]
    }
   ],
   "source": [
    "# Q3. Write a program to add multiple items using update function\n",
    "set1 = {10, 20, 30, 40, 50}\n",
    "set1.update({11, 22, 33})\n",
    "print(set1)"
   ]
  },
  {
   "cell_type": "code",
   "execution_count": 10,
   "metadata": {},
   "outputs": [
    {
     "output_type": "stream",
     "name": "stdout",
     "text": [
      "Length: 5\n"
     ]
    }
   ],
   "source": [
    "# Q4. Write a program to find length of a set\n",
    "set1 = {10, 20, 30, 40, 50}\n",
    "print(\"Length: {}\".format(len(set1)))"
   ]
  },
  {
   "cell_type": "code",
   "execution_count": 11,
   "metadata": {},
   "outputs": [
    {
     "output_type": "stream",
     "name": "stdout",
     "text": [
      "{40, 50, 20, 30}\n"
     ]
    }
   ],
   "source": [
    "# Q5. Write a program to remove value from a set\n",
    "set1 = {10, 20, 30, 40, 50}\n",
    "set1.remove(10)\n",
    "print(set1)"
   ]
  },
  {
   "cell_type": "code",
   "execution_count": 12,
   "metadata": {},
   "outputs": [
    {
     "output_type": "stream",
     "name": "stdout",
     "text": [
      "{10, 50, 20, 30}\n"
     ]
    }
   ],
   "source": [
    "# Q6. Write a program to pop an element from a set\n",
    "set1 = {10, 20, 30, 40, 50}\n",
    "set1.pop()\n",
    "print(set1)"
   ]
  },
  {
   "cell_type": "code",
   "execution_count": 13,
   "metadata": {},
   "outputs": [
    {
     "output_type": "stream",
     "name": "stdout",
     "text": [
      "{40, 200, 10, 50, 20, 30}\n"
     ]
    }
   ],
   "source": [
    "# Q7. Write a program to update a set\n",
    "set1 = {10, 20, 30, 40, 50}\n",
    "set1.update({200})\n",
    "print(set1)"
   ]
  },
  {
   "cell_type": "code",
   "execution_count": 14,
   "metadata": {},
   "outputs": [
    {
     "output_type": "stream",
     "name": "stdout",
     "text": [
      "Intersection:  {40, 50, 30}\n"
     ]
    }
   ],
   "source": [
    "# Q8. Write a Python program to create an intersection of sets.\n",
    "set1 = {10, 20, 30, 40, 50}\n",
    "set2 = {30, 40, 50, 60, 70}\n",
    "\n",
    "new_set = set1.intersection(set2)\n",
    "print(\"Intersection: \", new_set)"
   ]
  },
  {
   "cell_type": "code",
   "execution_count": 15,
   "metadata": {},
   "outputs": [
    {
     "output_type": "stream",
     "name": "stdout",
     "text": [
      "Union:  {70, 40, 10, 50, 20, 60, 30}\n"
     ]
    }
   ],
   "source": [
    "# Q9. Write a Python program to create a union of sets.\n",
    "set1 = {10, 20, 30, 40, 50}\n",
    "set2 = {30, 40, 50, 60, 70}\n",
    "\n",
    "new_set = set1.union(set2)\n",
    "print(\"Union: \", new_set)"
   ]
  },
  {
   "cell_type": "code",
   "execution_count": 16,
   "metadata": {},
   "outputs": [
    {
     "output_type": "stream",
     "name": "stdout",
     "text": [
      "set()\n"
     ]
    }
   ],
   "source": [
    "# Q10. Write a Python program to clear a set.\n",
    "set1 = {10, 20, 30, 40, 50}\n",
    "set1.clear()\n",
    "print(set1)"
   ]
  },
  {
   "cell_type": "code",
   "execution_count": 17,
   "metadata": {},
   "outputs": [
    {
     "output_type": "stream",
     "name": "stdout",
     "text": [
      "s1 is the subset of s2: True\ns2 is the superset of s1: True\n"
     ]
    }
   ],
   "source": [
    "# Q11. Write a Python program to issubset and issuperset.\n",
    "s1 = {1, 2, 3}\n",
    "s2 = {1, 2, 3, 5, 4, 6}\n",
    "\n",
    "new_set1 = s1.issubset(s2)\n",
    "new_set2 = s2.issuperset(s1)\n",
    "\n",
    "print(\"s1 is the subset of s2: {}\".format(new_set1))\n",
    "print(\"s2 is the superset of s1: {}\".format(new_set2))"
   ]
  },
  {
   "cell_type": "code",
   "execution_count": 18,
   "metadata": {},
   "outputs": [
    {
     "output_type": "stream",
     "name": "stdout",
     "text": [
      "Difference:  {10, 20}\n"
     ]
    }
   ],
   "source": [
    "# Q12. Write a Python program to create set difference.\n",
    "set1 = {10, 20, 30, 40, 50}\n",
    "set2 = {30, 40, 50, 60, 70}\n",
    "\n",
    "diff_set = set1.difference(set2)\n",
    "print(\"Difference: \", diff_set)"
   ]
  },
  {
   "cell_type": "code",
   "execution_count": 19,
   "metadata": {},
   "outputs": [
    {
     "output_type": "stream",
     "name": "stdout",
     "text": [
      "Symmetric Difference:  {20, 70, 10, 60}\n"
     ]
    }
   ],
   "source": [
    "# Q13. Write a Python program to create a symmetric difference.\n",
    "set1 = {10, 20, 30, 40, 50}\n",
    "set2 = {30, 40, 50, 60, 70}\n",
    "\n",
    "sym_diff = set1.symmetric_difference(set2)\n",
    "print(\"Symmetric Difference: \", sym_diff)"
   ]
  }
 ]
}