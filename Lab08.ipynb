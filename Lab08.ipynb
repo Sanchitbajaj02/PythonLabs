{
 "metadata": {
  "language_info": {
   "codemirror_mode": {
    "name": "ipython",
    "version": 3
   },
   "file_extension": ".py",
   "mimetype": "text/x-python",
   "name": "python",
   "nbconvert_exporter": "python",
   "pygments_lexer": "ipython3",
   "version": "3.8.5-final"
  },
  "orig_nbformat": 2,
  "kernelspec": {
   "name": "python3",
   "display_name": "Python 3.8.5 32-bit",
   "metadata": {
    "interpreter": {
     "hash": "2bc9d3d03d6abd05a2a6b4e9db2e2f37b3c445a3e83321d2b915ec6cd4d6c2be"
    }
   }
  }
 },
 "nbformat": 4,
 "nbformat_minor": 2,
 "cells": [
  {
   "cell_type": "code",
   "execution_count": 28,
   "metadata": {},
   "outputs": [
    {
     "output_type": "stream",
     "name": "stdout",
     "text": [
      "Sides of Triangle are: 10, 20 and 30\n"
     ]
    }
   ],
   "source": [
    "# Q1. Write a Python program that create a class tringle and define two methods, create_triangle() and print_sides().\n",
    "class Triangle:\n",
    "    a = 0\n",
    "    b = 0 \n",
    "    c = 0\n",
    "    def create_triangle(self, x, y, z):\n",
    "        self.a = x\n",
    "        self.b = y\n",
    "        self.c = z\n",
    "    def print_sides(self):\n",
    "        print(\"Sides of Triangle are: {}, {} and {}\".format(self.a, self.b, self.c))\n",
    "obj = Triangle()\n",
    "obj.create_triangle(10, 20, 30)\n",
    "obj.print_sides()"
   ]
  },
  {
   "cell_type": "code",
   "execution_count": 33,
   "metadata": {},
   "outputs": [
    {
     "output_type": "stream",
     "name": "stdout",
     "text": [
      "Using get_String: Hello, World!\nUsing print_String: Hello, World!\n"
     ]
    }
   ],
   "source": [
    "# Q2. Write a Python program to create a class with two methods get_String() and print_String().\n",
    "class Method:\n",
    "    string = ''\n",
    "    def __init__(self, new_str):\n",
    "        self.string = new_str\n",
    "    def get_String(self):\n",
    "        return self.string\n",
    "    def print_String(self):\n",
    "        print(\"Using print_String: {}\".format(self.string))\n",
    "\n",
    "str_obj = Method(\"Hello, World!\")\n",
    "obj = str_obj.get_String()\n",
    "print(\"Using get_String: {}\".format(obj))\n",
    "str_obj.print_String()"
   ]
  },
  {
   "cell_type": "code",
   "execution_count": 37,
   "metadata": {},
   "outputs": [
    {
     "output_type": "stream",
     "name": "stdout",
     "text": [
      "Perimeter of Rectangle is : 60\n"
     ]
    }
   ],
   "source": [
    "# Q3. Write a Python program to create a class Rectangle that takes the parameter length and width. The class should also contain a method for computing its perimeter.\n",
    "class Rectangle:\n",
    "    length = 0\n",
    "    width = 0\n",
    "    def __init__(self, l, w):\n",
    "        self.length = l\n",
    "        self.width = w\n",
    "    def perimeter(self):\n",
    "        return 2 * (self.length + self.width)\n",
    "\n",
    "rect = Rectangle(10, 20)\n",
    "print(\"Perimeter of Rectangle is : {}\".format(rect.perimeter()))"
   ]
  },
  {
   "cell_type": "code",
   "execution_count": 41,
   "metadata": {},
   "outputs": [
    {
     "output_type": "stream",
     "name": "stdout",
     "text": [
      "Perimeter of Circle is: 31.42\nArea of Circle is: 78.54\n"
     ]
    }
   ],
   "source": [
    "# Q4. Write a Python program to create a class Circle that takes the parameter radius. The class should also contain two methods for computing its area & perimeter respectively. Use constructor to implement initialization of parameters\n",
    "import math as m\n",
    "class Circle:\n",
    "    radius = 0.0\n",
    "    def __init__(self, r):\n",
    "        self.radius = r\n",
    "    def area(self):\n",
    "        return m.pi * pow(self.radius, 2)\n",
    "    def perimeter(self):\n",
    "        return 2 * m.pi * self.radius\n",
    "\n",
    "circle_obj = Circle(5)\n",
    "print(\"Perimeter of Circle is: {:.2f}\".format(circle_obj.perimeter()))\n",
    "print(\"Area of Circle is: {:.2f}\".format(circle_obj.area()))\n"
   ]
  },
  {
   "cell_type": "code",
   "execution_count": 43,
   "metadata": {},
   "outputs": [
    {
     "output_type": "stream",
     "name": "stdout",
     "text": [
      "Area: 12.57\nPerimeter: 12.57\n"
     ]
    }
   ],
   "source": [
    "# Q5. Create a Circle class and initialize it with radius. Make two methods getArea and getCircumference inside this class.\n",
    "class Circle:\n",
    "    radius = 3\n",
    "    def getArea(self):\n",
    "        return m.pi * pow(self.radius, 2)\n",
    "    def getCircumference(self):\n",
    "        return 2 * m.pi * self.radius\n",
    "\n",
    "obj = Circle()\n",
    "print(\"Area: {:.2f}\".format(obj.getArea()))\n",
    "print(\"Perimeter: {:.2f}\".format(obj.getCircumference()))"
   ]
  },
  {
   "cell_type": "code",
   "execution_count": 13,
   "metadata": {},
   "outputs": [
    {
     "output_type": "stream",
     "name": "stdout",
     "text": [
      "Celsius to Fahrenheit: 212.0\nFahrenheit to Celsius: 100.0\n"
     ]
    }
   ],
   "source": [
    "# Q6. Create a Temperature class. Make two methods:\n",
    "# a) convertFahrenheit - It will take Celsius and will print it into Fahrenheit.\n",
    "# b) convertCelsius - It will take Fahrenheit and will convert it into Celsius.\n",
    "class Temperature:\n",
    "    def convertFahrenheit(self, C):\n",
    "        F = (C * 1.8) + 32\n",
    "        return F\n",
    "\n",
    "    def convertCelsius(self, F):\n",
    "        C = (F - 32) * 5/9\n",
    "        return C\n",
    "\n",
    "obj = Temperature()\n",
    "print(\"Celsius to Fahrenheit: {}\".format(obj.convertFahrenheit(100)))\n",
    "print(\"Fahrenheit to Celsius: {}\".format(obj.convertCelsius(212)))"
   ]
  },
  {
   "cell_type": "code",
   "execution_count": 10,
   "metadata": {},
   "outputs": [
    {
     "output_type": "stream",
     "name": "stdout",
     "text": [
      "Name: Sanchit, Roll no: 108, Age: None, Marks: None\nName: Sanchit, Roll no: 108, Age: 20, Marks: 80\n"
     ]
    }
   ],
   "source": [
    "# Q7. Create a Student class and initialize it with name and roll number. Make methods to:\n",
    "# 1. Display - It should display all information’s of the student.\n",
    "# 2. setAge - It should assign age to student\n",
    "# 3. setMarks - It should assign marks to the student.\n",
    "class Student:\n",
    "    name = ''\n",
    "    rno = 0\n",
    "    age = None\n",
    "    marks = None\n",
    "    def __init__(self, name, rno):\n",
    "        self.name = name\n",
    "        self.rno = rno\n",
    "\n",
    "    def disp(self):\n",
    "        print(\"Name: {}, Roll no: {}, Age: {}, Marks: {}\".format(self.name, self.rno, self.age, self.marks))\n",
    "    def setAge(self, age):\n",
    "        self.age = age\n",
    "\n",
    "    def setMarks(self, marks):\n",
    "        self.marks = marks\n",
    "\n",
    "stud = Student(\"Sanchit\", 108)\n",
    "stud.disp()\n",
    "stud.setAge(20)\n",
    "stud.setMarks(80)\n",
    "stud.disp()"
   ]
  },
  {
   "cell_type": "code",
   "execution_count": 22,
   "metadata": {},
   "outputs": [
    {
     "output_type": "stream",
     "name": "stdout",
     "text": [
      "8 lab of nine question is This\n"
     ]
    }
   ],
   "source": [
    "# Q8. Write a Python class to reverse a string word by word.\n",
    "class Rev:\n",
    "    def __init__(self, sentence):\n",
    "        self.sentence = sentence\n",
    "    \n",
    "    def reverseString(self):\n",
    "        var = self.sentence.split()\n",
    "        var.reverse()\n",
    "        print(\" \".join(var))\n",
    "\n",
    "obj = Rev(\"This is question nine of lab 8\")\n",
    "obj.reverseString()"
   ]
  }
 ]
}